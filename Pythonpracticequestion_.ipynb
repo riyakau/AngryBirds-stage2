{
  "nbformat": 4,
  "nbformat_minor": 0,
  "metadata": {
    "colab": {
      "name": "Pythonpracticequestion .ipynb",
      "provenance": [],
      "collapsed_sections": [],
      "authorship_tag": "ABX9TyNqROi8GIzFVytbc6ugFakU",
      "include_colab_link": true
    },
    "kernelspec": {
      "name": "python3",
      "display_name": "Python 3"
    },
    "language_info": {
      "name": "python"
    }
  },
  "cells": [
    {
      "cell_type": "markdown",
      "metadata": {
        "id": "view-in-github",
        "colab_type": "text"
      },
      "source": [
        "<a href=\"https://colab.research.google.com/github/riyakau/AngryBirds-stage2/blob/master/Pythonpracticequestion_.ipynb\" target=\"_parent\"><img src=\"https://colab.research.google.com/assets/colab-badge.svg\" alt=\"Open In Colab\"/></a>"
      ]
    },
    {
      "cell_type": "markdown",
      "metadata": {
        "id": "q-vfDv9BRi40"
      },
      "source": [
        "#Program 1#\n"
      ]
    },
    {
      "cell_type": "code",
      "metadata": {
        "colab": {
          "base_uri": "https://localhost:8080/"
        },
        "id": "tZtzaPySzfQe",
        "outputId": "92e946f2-04f5-4a7b-8232-ecefeb956f16"
      },
      "source": [
        "val= int(input(\"enter a number\"))\n",
        "lst=[val*i for i in range(1,11)]\n",
        "print(lst)"
      ],
      "execution_count": 1,
      "outputs": [
        {
          "output_type": "stream",
          "text": [
            "enter a number23\n",
            "[23, 46, 69, 92, 115, 138, 161, 184, 207, 230]\n"
          ],
          "name": "stdout"
        }
      ]
    },
    {
      "cell_type": "markdown",
      "metadata": {
        "id": "b_H_HcyYRs_B"
      },
      "source": [
        "#Program 2#"
      ]
    },
    {
      "cell_type": "code",
      "metadata": {
        "colab": {
          "base_uri": "https://localhost:8080/"
        },
        "id": "muNd-4bIRhmX",
        "outputId": "83dad4b8-9ad9-416e-b0e1-f114732a40fc"
      },
      "source": [
        "def isPrime(n):\n",
        "   for i in range(2, n):\n",
        "      if n % i == 0:\n",
        "         return False\n",
        "   return True\n",
        "\n",
        "def twin_finder(lower, upper):\n",
        "   for i in range(lower, upper):\n",
        "      j = i + 2\n",
        "      if(isPrime(i) and isPrime(j)):\n",
        "         print(\"{0} and {1}\".format(i, j))\n",
        "\n",
        "twin_finder(1, 999)"
      ],
      "execution_count": 2,
      "outputs": [
        {
          "output_type": "stream",
          "text": [
            "1 and 3\n",
            "3 and 5\n",
            "5 and 7\n",
            "11 and 13\n",
            "17 and 19\n",
            "29 and 31\n",
            "41 and 43\n",
            "59 and 61\n",
            "71 and 73\n",
            "101 and 103\n",
            "107 and 109\n",
            "137 and 139\n",
            "149 and 151\n",
            "179 and 181\n",
            "191 and 193\n",
            "197 and 199\n",
            "227 and 229\n",
            "239 and 241\n",
            "269 and 271\n",
            "281 and 283\n",
            "311 and 313\n",
            "347 and 349\n",
            "419 and 421\n",
            "431 and 433\n",
            "461 and 463\n",
            "521 and 523\n",
            "569 and 571\n",
            "599 and 601\n",
            "617 and 619\n",
            "641 and 643\n",
            "659 and 661\n",
            "809 and 811\n",
            "821 and 823\n",
            "827 and 829\n",
            "857 and 859\n",
            "881 and 883\n"
          ],
          "name": "stdout"
        }
      ]
    },
    {
      "cell_type": "markdown",
      "metadata": {
        "id": "hJWkNia2UCdi"
      },
      "source": [
        "#Program 3#"
      ]
    },
    {
      "cell_type": "code",
      "metadata": {
        "colab": {
          "base_uri": "https://localhost:8080/"
        },
        "id": "toZhHKSRUBbA",
        "outputId": "231be410-de06-40ec-83be-240f355cafb6"
      },
      "source": [
        "num=int(input(\"enter a number\"))\n",
        "for i in range(2,num+1):\n",
        "  if(num%i==0):\n",
        "    isPrime=1\n",
        "    for j in range(2, (i //2 + 1)):\n",
        "            if(i % j == 0):\n",
        "                isprime = 0\n",
        "                break\n",
        "    if(isPrime==1):\n",
        "      print(\"{} is a prime factor of {}\".format(i,num))"
      ],
      "execution_count": 3,
      "outputs": [
        {
          "output_type": "stream",
          "text": [
            "enter a number76\n",
            "2 is a prime factor of 76\n",
            "4 is a prime factor of 76\n",
            "19 is a prime factor of 76\n",
            "38 is a prime factor of 76\n",
            "76 is a prime factor of 76\n"
          ],
          "name": "stdout"
        }
      ]
    },
    {
      "cell_type": "markdown",
      "metadata": {
        "id": "LjhMl3D3u5-J"
      },
      "source": [
        "#program 4#"
      ]
    },
    {
      "cell_type": "code",
      "metadata": {
        "colab": {
          "base_uri": "https://localhost:8080/"
        },
        "id": "7dT_Q4neu9n3",
        "outputId": "41aeaec4-da2e-4e5d-cfe3-bb5e56d51f11"
      },
      "source": [
        "\n",
        "def fact(n):\n",
        "  if n==1:\n",
        "    return n\n",
        "  else:\n",
        "    return n*fact(n-1)\n",
        "\n",
        "def permutation(n, r):\n",
        "  return int(fact(n)/fact(n-r))\n",
        "\n",
        "def combination(n,r):\n",
        "  return int(fact(n)/(fact(r)*fact(n-r)))\n",
        "\n",
        "\n",
        "print(\"Permutation: \", permutation(18,4))\n",
        "print(\"Combination: \", combination(18,4))"
      ],
      "execution_count": 4,
      "outputs": [
        {
          "output_type": "stream",
          "text": [
            "Permutation:  73440\n",
            "Combination:  3060\n"
          ],
          "name": "stdout"
        }
      ]
    },
    {
      "cell_type": "markdown",
      "metadata": {
        "id": "4WOnUcowdqFP"
      },
      "source": [
        "#program 5#"
      ]
    },
    {
      "cell_type": "code",
      "metadata": {
        "colab": {
          "base_uri": "https://localhost:8080/"
        },
        "id": "_tfpNoT-dxn2",
        "outputId": "e549b148-6709-4e47-8a8c-395a274b643c"
      },
      "source": [
        "num= int(input(\"enter a number\"))\n",
        "def decToBin(num):\n",
        "\n",
        "  if num>1:\n",
        "    decToBin(num//2)\n",
        "  print(num%2,end='')\n",
        "\n",
        "decToBin(num)"
      ],
      "execution_count": 5,
      "outputs": [
        {
          "output_type": "stream",
          "text": [
            "enter a number87\n",
            "1010111"
          ],
          "name": "stdout"
        }
      ]
    },
    {
      "cell_type": "markdown",
      "metadata": {
        "id": "5k532ylIu2zD"
      },
      "source": [
        "#program 6#"
      ]
    },
    {
      "cell_type": "code",
      "metadata": {
        "colab": {
          "base_uri": "https://localhost:8080/"
        },
        "id": "zQrTJ2c0wOZz",
        "outputId": "b34fc49f-46e8-4ea6-e804-8775684e4241"
      },
      "source": [
        "def cubesum(num):\n",
        "    sum = 0\n",
        "    temp = num\n",
        "    while temp > 0:\n",
        "        digit = temp % 10\n",
        "        sum += digit ** 3\n",
        "        temp //= 10\n",
        "    return sum\n",
        "\n",
        "def isArmstrong(num):\n",
        "  if cubesum(num) == num:\n",
        "    return True\n",
        "  else:\n",
        "    return False\n",
        "\n",
        "def printArmstrong(num):\n",
        "  armstrong = []\n",
        "  for n in range(num):\n",
        "    if isArmstrong(n):\n",
        "      armstrong.append(n)\n",
        "  return armstrong\n",
        "\n",
        "\n",
        "print(\"Armstrong: \", printArmstrong(1000))"
      ],
      "execution_count": 6,
      "outputs": [
        {
          "output_type": "stream",
          "text": [
            "Armstrong:  [0, 1, 153, 370, 371, 407]\n"
          ],
          "name": "stdout"
        }
      ]
    },
    {
      "cell_type": "markdown",
      "metadata": {
        "id": "dbTh5sV4fuWj"
      },
      "source": [
        "#program 7#"
      ]
    },
    {
      "cell_type": "code",
      "metadata": {
        "colab": {
          "base_uri": "https://localhost:8080/"
        },
        "id": "U4iNGUrPgDnA",
        "outputId": "2cf18ef9-6229-45b1-83e8-2963dc9c4b50"
      },
      "source": [
        "\n",
        "def prodDigit(num):\n",
        "    \"\"\"\n",
        "    Returns the product of digits of given number\n",
        "    \"\"\"\n",
        "    temp = num\n",
        "    prod = 1\n",
        "    while temp > 0:\n",
        "        digit = temp % 10\n",
        "        prod *= digit\n",
        "        temp //= 10\n",
        "    return prod\n",
        "\n",
        "\n",
        "# num = int(input(\"Enter a number: \"))\n",
        "num = 54\n",
        "print(\"Product of all digits of {0} is: {1}\".format(num, prodDigit(num)))\n",
        "\n",
        "\n",
        "    "
      ],
      "execution_count": 7,
      "outputs": [
        {
          "output_type": "stream",
          "text": [
            "Product of all digits of 54 is: 20\n"
          ],
          "name": "stdout"
        }
      ]
    },
    {
      "cell_type": "markdown",
      "metadata": {
        "id": "Gq_6ErHkrvWZ"
      },
      "source": [
        "#program 8#\n",
        "\n",
        "\n",
        "```\n",
        "# This is formatted as code\n",
        "```\n",
        "\n"
      ]
    },
    {
      "cell_type": "code",
      "metadata": {
        "colab": {
          "base_uri": "https://localhost:8080/"
        },
        "id": "lYyD54Cer06N",
        "outputId": "c2f4fbb9-c6df-4c7b-88ae-c6672eb6320e"
      },
      "source": [
        "def MDR(num):\n",
        "  s = str(num)\n",
        "  pers = 0\n",
        "  while len(s) > 1:\n",
        "      s = str(prodDigit(int(s)))\n",
        "      pers += 1\n",
        "  return int(s), pers\n",
        "\n",
        "num = 86\n",
        "mdr, mper = MDR(num)\n",
        "print(\"For {0} MDR is {1} and M Persistance is {2}\".format(num, mdr, mper))\n"
      ],
      "execution_count": 8,
      "outputs": [
        {
          "output_type": "stream",
          "text": [
            "For 86 MDR is 6 and M Persistance is 3\n"
          ],
          "name": "stdout"
        }
      ]
    },
    {
      "cell_type": "markdown",
      "metadata": {
        "id": "RMxUxFAri4K9"
      },
      "source": [
        "#program 9#"
      ]
    },
    {
      "cell_type": "code",
      "metadata": {
        "id": "1cBLeOI9jBF_",
        "colab": {
          "base_uri": "https://localhost:8080/"
        },
        "outputId": "f32d1cdc-41a5-4803-bf92-8520207c748f"
      },
      "source": [
        "def pdivisors(num):\n",
        "  divisors=[]\n",
        "  for i in range(1,num):\n",
        "    if num%i==0:\n",
        "      divisors.append(i)\n",
        "  return sum(divisors)\n",
        "\n",
        "pdivisors(220)\n",
        "\n",
        "\n"
      ],
      "execution_count": 9,
      "outputs": [
        {
          "output_type": "execute_result",
          "data": {
            "text/plain": [
              "284"
            ]
          },
          "metadata": {
            "tags": []
          },
          "execution_count": 9
        }
      ]
    },
    {
      "cell_type": "markdown",
      "metadata": {
        "id": "pxfp_HPkqfhM"
      },
      "source": [
        "#program 10#"
      ]
    },
    {
      "cell_type": "code",
      "metadata": {
        "colab": {
          "base_uri": "https://localhost:8080/"
        },
        "id": "WAvvai91qlqC",
        "outputId": "0d75ef3b-ba20-453b-d705-9c7932b058c2"
      },
      "source": [
        "def isPerfect(num):\n",
        "  return num == pdivisors(num)\n",
        "\n",
        "def perfectNums(lower, upper):\n",
        "  for i in range(lower, upper):\n",
        "        if isPerfect(i):\n",
        "            print(i)\n",
        "            \n",
        "perfectNums(0,100)"
      ],
      "execution_count": 10,
      "outputs": [
        {
          "output_type": "stream",
          "text": [
            "0\n",
            "6\n",
            "28\n"
          ],
          "name": "stdout"
        }
      ]
    },
    {
      "cell_type": "markdown",
      "metadata": {
        "id": "3ft4MFY2sOGC"
      },
      "source": [
        "#program11#"
      ]
    },
    {
      "cell_type": "code",
      "metadata": {
        "colab": {
          "base_uri": "https://localhost:8080/"
        },
        "id": "EaoshJresQ_p",
        "outputId": "ca4939cc-aa75-452e-ce6a-f60ce9e772a2"
      },
      "source": [
        "def amicablenum(lower,upper):\n",
        "  for num in range(lower, upper+1):\n",
        "        for num1 in range(num, upper+1):\n",
        "            if num != num1:\n",
        "                if amicablePair(num, num1):\n",
        "                    print(num, num1)\n",
        "\n",
        "def amicablePair(num2, num3):\n",
        "  return (pdivisors(num2) == num3) and (pdivisors(num3) == num2)\n",
        "\n",
        "amicablenum(1,1000)"
      ],
      "execution_count": 11,
      "outputs": [
        {
          "output_type": "stream",
          "text": [
            "220 284\n"
          ],
          "name": "stdout"
        }
      ]
    },
    {
      "cell_type": "markdown",
      "metadata": {
        "id": "5pQA_RNFqq37"
      },
      "source": [
        "#program 12#"
      ]
    },
    {
      "cell_type": "code",
      "metadata": {
        "colab": {
          "base_uri": "https://localhost:8080/"
        },
        "id": "X8quGjhirUjx",
        "outputId": "57ef8898-4bef-4111-bbcb-24c17dc1e2c8"
      },
      "source": [
        "lst=[1,2,3,4,5,6,7,8,9,18]\n",
        "list_odd=list(filter(lambda x:(x%2!=0),lst))\n",
        "print(list_odd)"
      ],
      "execution_count": 12,
      "outputs": [
        {
          "output_type": "stream",
          "text": [
            "[1, 3, 5, 7, 9]\n"
          ],
          "name": "stdout"
        }
      ]
    },
    {
      "cell_type": "markdown",
      "metadata": {
        "id": "Ct04MUdcrooX"
      },
      "source": [
        "program13"
      ]
    },
    {
      "cell_type": "code",
      "metadata": {
        "colab": {
          "base_uri": "https://localhost:8080/"
        },
        "id": "6Rgs_hP9rrT-",
        "outputId": "e1e2fa01-c3da-4a7c-c585-914503c5d603"
      },
      "source": [
        "lst=[1,2,3,4,5,6,7,8,9,18]\n",
        "list_cube=list(map(lambda x:x**3,lst))\n",
        "print(list_cube)"
      ],
      "execution_count": 13,
      "outputs": [
        {
          "output_type": "stream",
          "text": [
            "[1, 8, 27, 64, 125, 216, 343, 512, 729, 5832]\n"
          ],
          "name": "stdout"
        }
      ]
    },
    {
      "cell_type": "markdown",
      "metadata": {
        "id": "yGFQ3rcIsbG_"
      },
      "source": [
        "#program14#"
      ]
    },
    {
      "cell_type": "code",
      "metadata": {
        "colab": {
          "base_uri": "https://localhost:8080/"
        },
        "id": "7bDCdwCGse0m",
        "outputId": "7270b3ea-4fb8-42b4-dcd3-2f7bfa6e6fb1"
      },
      "source": [
        "lst=[1,2,3,4,5,6,7,8,9,18]\n",
        "list_cubeeven=list(map(lambda x:x**3,filter(lambda x:(x%2==0),lst)))\n",
        "print(list_cubeeven)"
      ],
      "execution_count": 14,
      "outputs": [
        {
          "output_type": "stream",
          "text": [
            "[8, 64, 216, 512, 5832]\n"
          ],
          "name": "stdout"
        }
      ]
    }
  ]
}